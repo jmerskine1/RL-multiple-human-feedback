{
 "cells": [
  {
   "cell_type": "code",
   "execution_count": 5,
   "metadata": {},
   "outputs": [],
   "source": [
    "from config import parameters\n",
    "import jax\n",
    "import jax.numpy as np\n",
    "# Generate a sequence of random numbers\n",
    "sequence_length = 10  # Adjust the length as needed\n",
    "random_numbers = jax.random.uniform(parameters['key'], shape=(sequence_length,))\n",
    "idx = 0\n",
    "newPos = [0,0]\n",
    "\n",
    "actions = list(['n','s','e','w'])\n",
    "choices = jax.random.choice(parameters['key'], np.array((0,1,2,3)),(np.shape(actions)[0],4))"
   ]
  },
  {
   "cell_type": "code",
   "execution_count": 147,
   "metadata": {},
   "outputs": [
    {
     "name": "stdout",
     "output_type": "stream",
     "text": [
      "[ 0  1  2  3  4  5  6  7  8  9 10 11 12 13 14 15 16 17 18 19 20 21 22 23\n",
      " 24 25 26 27 28 29 30 31 32 33 34 35 36 37 38 39 40 41 42 43 44 45 46 47\n",
      " 48 49 50 51 52 53 54 55 56 57 58 59 60 61 62 63 64 65]\n"
     ]
    }
   ],
   "source": [
    "X = 10\n",
    "Y = 5\n",
    "states=[]\n",
    "for i in range(X+1):\n",
    "    for j in range(Y+1):\n",
    "        states.append(i+j*(X+1))        \n",
    "\n",
    "print(np.unique(np.array(states)))"
   ]
  },
  {
   "cell_type": "code",
   "execution_count": 153,
   "metadata": {},
   "outputs": [],
   "source": [
    "import numpy as np\n",
    "\n",
    "# Define the shape of the 3D matrix [I, J, K]\n",
    "I, J, K = 2, 2, 3\n",
    "\n",
    "# Create a meshgrid of indices for each dimension\n",
    "i, j, k = np.meshgrid(np.arange(I), np.arange(J), np.arange(K))#, indexing='ij')\n",
    "\n",
    "# Stack the indices to create unique identifiers\n",
    "unique_identifiers = np.stack((i, j, k), axis=-1)\n",
    "\n",
    "# Now, 'unique_identifiers' is a NumPy array with unique identifiers for each element in the 3D matrix\n"
   ]
  },
  {
   "cell_type": "code",
   "execution_count": 1,
   "metadata": {},
   "outputs": [
    {
     "data": {
      "text/plain": [
       "4096"
      ]
     },
     "execution_count": 1,
     "metadata": {},
     "output_type": "execute_result"
    }
   ],
   "source": [
    "from config import rl\n",
    "\n",
    "rl['nStates']"
   ]
  },
  {
   "cell_type": "code",
   "execution_count": 2,
   "metadata": {},
   "outputs": [
    {
     "name": "stdout",
     "output_type": "stream",
     "text": [
      "[1, 2, 3, 4, 5, 6, 7, 8, 9]\n"
     ]
    }
   ],
   "source": [
    "import numpy as np\n",
    "\n",
    "# Create a 3x3 array (you can use your own array)\n",
    "array_3x3 = np.array([[1, 2, 3],\n",
    "                      [4, 5, 6],\n",
    "                      [7, 8, 9]])\n",
    "\n",
    "# Convert the 3x3 array into a list of 9 values\n",
    "flattened_list = [element for row in array_3x3 for element in row]\n",
    "\n",
    "# Print the flattened list\n",
    "print(flattened_list)\n"
   ]
  },
  {
   "cell_type": "code",
   "execution_count": 3,
   "metadata": {},
   "outputs": [
    {
     "name": "stdout",
     "output_type": "stream",
     "text": [
      "Element at index (1, 2) in the 3x3 matrix: 6\n"
     ]
    }
   ],
   "source": [
    "row, col = 1, 2  # Example index (row, col) for the 3x3 matrix\n",
    "\n",
    "# Calculate the index in the flattened list\n",
    "index_in_list = row * 3 + col\n",
    "\n",
    "# Access the element in the flattened list\n",
    "element = flattened_list[index_in_list]\n",
    "\n",
    "print(f\"Element at index ({row}, {col}) in the 3x3 matrix: {element}\")\n"
   ]
  },
  {
   "cell_type": "code",
   "execution_count": 10,
   "metadata": {},
   "outputs": [
    {
     "name": "stdout",
     "output_type": "stream",
     "text": [
      "Element at index (2, 2) in the matrix: 8\n"
     ]
    }
   ],
   "source": [
    "def index_to_element(matrix_shape, index):\n",
    "    \"\"\"\n",
    "    Converts an index for a matrix of any shape and dimensionality\n",
    "    into the corresponding element in the flattened list.\n",
    "\n",
    "    Args:\n",
    "    - matrix_shape (tuple): The shape of the matrix as a tuple (rows, columns, depth, ...).\n",
    "    - index (tuple): The index for the matrix as a tuple (row, column, depth, ...).\n",
    "\n",
    "    Returns:\n",
    "    - element: The corresponding element in the flattened list.\n",
    "    \"\"\"\n",
    "    if len(matrix_shape) != len(index):\n",
    "        raise ValueError(\"Matrix shape and index must have the same dimensionality.\")\n",
    "\n",
    "    if not all(0 <= i < dim for i, dim in zip(index, matrix_shape)):\n",
    "        raise ValueError(\"Index is out of bounds for the given matrix shape.\")\n",
    "\n",
    "    flattened_index = 0\n",
    "    multiplier = 1\n",
    "\n",
    "    for i in range(len(matrix_shape) - 1, -1, -1):\n",
    "        flattened_index += index[i] * multiplier\n",
    "        multiplier *= matrix_shape[i]\n",
    "\n",
    "    return flattened_index\n",
    "\n",
    "# Example usage:\n",
    "matrix_shape = (3, 3)  # Example matrix shape (3x3)\n",
    "index = (2, 2)         # Example index for the matrix\n",
    "\n",
    "element = index_to_element(matrix_shape, index)\n",
    "print(f\"Element at index {index} in the matrix: {element}\")\n"
   ]
  },
  {
   "cell_type": "code",
   "execution_count": 27,
   "metadata": {},
   "outputs": [
    {
     "name": "stdout",
     "output_type": "stream",
     "text": [
      "8\n"
     ]
    }
   ],
   "source": [
    "print(index_to_element((2,5),(1,3)))"
   ]
  },
  {
   "cell_type": "code",
   "execution_count": 29,
   "metadata": {},
   "outputs": [
    {
     "data": {
      "text/plain": [
       "0"
      ]
     },
     "execution_count": 29,
     "metadata": {},
     "output_type": "execute_result"
    }
   ],
   "source": [
    "1 - True"
   ]
  },
  {
   "cell_type": "code",
   "execution_count": 32,
   "metadata": {},
   "outputs": [
    {
     "name": "stdout",
     "output_type": "stream",
     "text": [
      "-1\n",
      "1\n"
     ]
    }
   ],
   "source": [
    "# 1 = 1\n",
    "# 0 = -1\n",
    "\n",
    "for i in range(2):\n",
    "    print(2*i-1)"
   ]
  },
  {
   "cell_type": "code",
   "execution_count": 44,
   "metadata": {},
   "outputs": [],
   "source": [
    "array_3x3[np.arange(3),1] += np.arange(5,8)"
   ]
  },
  {
   "cell_type": "code",
   "execution_count": 46,
   "metadata": {},
   "outputs": [],
   "source": [
    "sa_pairs = np.array([(s,a) for s in range(rl['nStates']) for a in range(rl['nActions'])])"
   ]
  },
  {
   "cell_type": "code",
   "execution_count": 47,
   "metadata": {},
   "outputs": [
    {
     "name": "stdout",
     "output_type": "stream",
     "text": [
      "(16384, 2)\n"
     ]
    }
   ],
   "source": [
    "print(np.shape(sa_pairs))"
   ]
  },
  {
   "cell_type": "code",
   "execution_count": 49,
   "metadata": {},
   "outputs": [
    {
     "name": "stdout",
     "output_type": "stream",
     "text": [
      "4096 4\n"
     ]
    }
   ],
   "source": [
    "print(rl['nStates'],rl['nActions'])"
   ]
  },
  {
   "cell_type": "code",
   "execution_count": 51,
   "metadata": {},
   "outputs": [],
   "source": [
    "valid = np.ones(rl['nStates'] * rl['nActions']) * False"
   ]
  },
  {
   "cell_type": "code",
   "execution_count": 52,
   "metadata": {},
   "outputs": [
    {
     "data": {
      "text/plain": [
       "(16384,)"
      ]
     },
     "execution_count": 52,
     "metadata": {},
     "output_type": "execute_result"
    }
   ],
   "source": [
    "np.shape(valid)"
   ]
  },
  {
   "cell_type": "code",
   "execution_count": 80,
   "metadata": {},
   "outputs": [],
   "source": [
    "arr1 = np.ones((1,4))*0\n",
    "arr2 = np.ones((1,4))*1\n",
    "arr3 = np.ones((1,4))*2"
   ]
  },
  {
   "cell_type": "code",
   "execution_count": 81,
   "metadata": {},
   "outputs": [],
   "source": [
    "arr4 = np.array((arr1,arr2,arr3))"
   ]
  },
  {
   "cell_type": "code",
   "execution_count": 82,
   "metadata": {},
   "outputs": [
    {
     "data": {
      "text/plain": [
       "array([[[0., 0., 0., 0.]],\n",
       "\n",
       "       [[1., 1., 1., 1.]],\n",
       "\n",
       "       [[2., 2., 2., 2.]]])"
      ]
     },
     "execution_count": 82,
     "metadata": {},
     "output_type": "execute_result"
    }
   ],
   "source": [
    "arr4"
   ]
  },
  {
   "cell_type": "code",
   "execution_count": 89,
   "metadata": {},
   "outputs": [
    {
     "data": {
      "text/plain": [
       "array([[3., 3., 3., 3.]])"
      ]
     },
     "execution_count": 89,
     "metadata": {},
     "output_type": "execute_result"
    }
   ],
   "source": [
    "np.sum(arr4,axis=0)"
   ]
  },
  {
   "cell_type": "code",
   "execution_count": 109,
   "metadata": {},
   "outputs": [
    {
     "name": "stdout",
     "output_type": "stream",
     "text": [
      "[-0.55338794  0.944283   -0.74176395 -0.5769758   1.1251862 ]\n",
      "[-0.32761317 -0.4066346   1.2469071   1.1900425   1.100263  ]\n",
      "[ 0.52089006  0.5769043  -0.843142   -0.88776976 -0.26607993]\n",
      "[ 1.4053283  -1.656194   -0.80294687  0.63603115  0.0813799 ]\n",
      "[-1.3662882   0.2240449  -0.07971714  0.6435944  -0.65730476]\n"
     ]
    }
   ],
   "source": [
    "import jax\n",
    "import jax.numpy as jnp\n",
    "from jax import jit, random\n",
    "\n",
    "# Define your function that relies on a random key\n",
    "def my_function(rng_key):\n",
    "    # Generate random numbers using the rng_key\n",
    "    random_numbers = random.normal(rng_key, (5,))\n",
    "    # Perform some computation using the random numbers\n",
    "    # result = jnp.sum(random_numbers)\n",
    "    \n",
    "    return random_numbers\n",
    "\n",
    "# Set a fixed random seed for reproducibility\n",
    "seed = 42\n",
    "rng_key = random.PRNGKey(seed)\n",
    "jit_my_function = jit(my_function)\n",
    "\n",
    "for i in range(5):\n",
    "    rng_key,subkey = random.split(rng_key)\n",
    "    result = jit_my_function(subkey)\n",
    "    print(result)\n",
    "\n",
    "\n",
    "\n",
    "# JIT-compile the function\n",
    "\n",
    "\n",
    "# Call the JIT-compiled function with the fixed rng_key\n"
   ]
  },
  {
   "cell_type": "code",
   "execution_count": 110,
   "metadata": {},
   "outputs": [],
   "source": [
    "environment = {\n",
    "    \"actions\":{'n': np.array([0, -1]), \n",
    "               's': np.array([0, 1]), \n",
    "               'w': np.array([-1, 0]), \n",
    "               'e': np.array([1, 0])}}\n"
   ]
  },
  {
   "cell_type": "code",
   "execution_count": 114,
   "metadata": {},
   "outputs": [],
   "source": [
    "gDirIdx = list(environment['actions'].values())"
   ]
  },
  {
   "cell_type": "code",
   "execution_count": 129,
   "metadata": {},
   "outputs": [
    {
     "data": {
      "text/plain": [
       "(array([1]),)"
      ]
     },
     "execution_count": 129,
     "metadata": {},
     "output_type": "execute_result"
    }
   ],
   "source": [
    "np.where(np.all(np.array(list(environment['actions'].values()))==[0,1],axis=1))\n",
    "# gDirIdx.index([0,-1])"
   ]
  },
  {
   "cell_type": "code",
   "execution_count": 134,
   "metadata": {},
   "outputs": [
    {
     "data": {
      "text/plain": [
       "array([], shape=(0, 1), dtype=int64)"
      ]
     },
     "execution_count": 134,
     "metadata": {},
     "output_type": "execute_result"
    }
   ],
   "source": [
    "np.argwhere([0,0,0,])"
   ]
  },
  {
   "cell_type": "code",
   "execution_count": 136,
   "metadata": {},
   "outputs": [
    {
     "data": {
      "text/plain": [
       "False"
      ]
     },
     "execution_count": 136,
     "metadata": {},
     "output_type": "execute_result"
    }
   ],
   "source": [
    "test1= np.array([0,-1])\n",
    "test2= np.array([0,0])\n",
    "\n",
    "np.array_equal(test1,test2)"
   ]
  },
  {
   "cell_type": "code",
   "execution_count": 137,
   "metadata": {},
   "outputs": [
    {
     "data": {
      "text/plain": [
       "14200"
      ]
     },
     "execution_count": 137,
     "metadata": {},
     "output_type": "execute_result"
    }
   ],
   "source": [
    "# 2.22\n",
    "100 * (60*2 + 22)"
   ]
  },
  {
   "cell_type": "code",
   "execution_count": 138,
   "metadata": {},
   "outputs": [
    {
     "data": {
      "text/plain": [
       "236.66666666666666"
      ]
     },
     "execution_count": 138,
     "metadata": {},
     "output_type": "execute_result"
    }
   ],
   "source": [
    "14200/60"
   ]
  },
  {
   "cell_type": "code",
   "execution_count": 139,
   "metadata": {},
   "outputs": [
    {
     "data": {
      "text/plain": [
       "3.933333333333333"
      ]
     },
     "execution_count": 139,
     "metadata": {},
     "output_type": "execute_result"
    }
   ],
   "source": [
    "236/60"
   ]
  },
  {
   "cell_type": "code",
   "execution_count": 143,
   "metadata": {},
   "outputs": [
    {
     "name": "stdout",
     "output_type": "stream",
     "text": [
      "(0, 1)\n"
     ]
    }
   ],
   "source": [
    "input_array = np.array([0,1])\n",
    "\n",
    "print(tuple(input_array))"
   ]
  },
  {
   "cell_type": "code",
   "execution_count": 33,
   "metadata": {},
   "outputs": [
    {
     "name": "stdout",
     "output_type": "stream",
     "text": [
      "true\n"
     ]
    }
   ],
   "source": [
    "import jax.numpy as np\n",
    "from config import environment\n",
    "\n",
    "x = 4\n",
    "y = 4\n",
    "if (all(np.greater_equal(np.array([environment['size']['X'],environment['size']['Y']]),np.array([x,y]))) and \n",
    "    all(np.greater_equal(np.array([x,y]),np.array([0,0])))) and not np.any(np.all(environment['obstacles'] == newPos, axis=1)):\n",
    "    print('true')\n",
    "else:\n",
    "    print('false')"
   ]
  },
  {
   "cell_type": "code",
   "execution_count": null,
   "metadata": {},
   "outputs": [],
   "source": []
  }
 ],
 "metadata": {
  "kernelspec": {
   "display_name": "RL_MHF",
   "language": "python",
   "name": "python3"
  },
  "language_info": {
   "codemirror_mode": {
    "name": "ipython",
    "version": 3
   },
   "file_extension": ".py",
   "mimetype": "text/x-python",
   "name": "python",
   "nbconvert_exporter": "python",
   "pygments_lexer": "ipython3",
   "version": "3.9.18"
  },
  "orig_nbformat": 4
 },
 "nbformat": 4,
 "nbformat_minor": 2
}
